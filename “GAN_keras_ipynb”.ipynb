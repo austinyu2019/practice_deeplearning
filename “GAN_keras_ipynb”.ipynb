{
  "nbformat": 4,
  "nbformat_minor": 0,
  "metadata": {
    "kernelspec": {
      "name": "python3",
      "display_name": "Python 3"
    },
    "language_info": {
      "codemirror_mode": {
        "name": "ipython",
        "version": 3
      },
      "file_extension": ".py",
      "mimetype": "text/x-python",
      "name": "python",
      "nbconvert_exporter": "python",
      "pygments_lexer": "ipython3",
      "version": "3.7.3"
    },
    "colab": {
      "name": "“GAN_keras.ipynb”",
      "provenance": [],
      "include_colab_link": true
    },
    "accelerator": "GPU"
  },
  "cells": [
    {
      "cell_type": "markdown",
      "metadata": {
        "id": "view-in-github",
        "colab_type": "text"
      },
      "source": [
        "<a href=\"https://colab.research.google.com/github/austinyu2019/practice_deeplearning/blob/master/%E2%80%9CGAN_keras_ipynb%E2%80%9D.ipynb\" target=\"_parent\"><img src=\"https://colab.research.google.com/assets/colab-badge.svg\" alt=\"Open In Colab\"/></a>"
      ]
    },
    {
      "cell_type": "markdown",
      "metadata": {
        "id": "qcg2S_coR67e",
        "colab_type": "text"
      },
      "source": [
        "## 代码参考  \n",
        "https://github.com/osh/KerasGAN"
      ]
    },
    {
      "cell_type": "code",
      "metadata": {
        "id": "JJGCnHgAR67i",
        "colab_type": "code",
        "outputId": "bc4d7b67-6864-4d14-8728-86359c7bc484",
        "colab": {
          "base_uri": "https://localhost:8080/",
          "height": 34
        }
      },
      "source": [
        "import random\n",
        "import numpy as np\n",
        "from keras.layers import Input\n",
        "from keras.layers.core import Reshape,Dense,Dropout,Activation,Flatten\n",
        "from keras.layers.advanced_activations import LeakyReLU\n",
        "from keras.layers.convolutional import Convolution2D, MaxPooling2D, ZeroPadding2D, Deconv2D, UpSampling2D\n",
        "from keras.regularizers import *\n",
        "from keras.layers.normalization import *\n",
        "from keras.optimizers import *\n",
        "from keras.datasets import mnist\n",
        "import matplotlib.pyplot as plt\n",
        "from keras.models import Model\n",
        "from tqdm import tqdm\n",
        "from IPython import display"
      ],
      "execution_count": 0,
      "outputs": [
        {
          "output_type": "stream",
          "text": [
            "Using TensorFlow backend.\n"
          ],
          "name": "stderr"
        }
      ]
    },
    {
      "cell_type": "markdown",
      "metadata": {
        "id": "Ko0S8yMuR67m",
        "colab_type": "text"
      },
      "source": [
        "## 读取数据集"
      ]
    },
    {
      "cell_type": "code",
      "metadata": {
        "id": "nckVM3e1R67o",
        "colab_type": "code",
        "outputId": "e93491bc-c1e4-4fc1-93e4-24834afc0747",
        "colab": {
          "base_uri": "https://localhost:8080/",
          "height": 118
        }
      },
      "source": [
        "img_rows, img_cols = 28, 28\n",
        "\n",
        "# the data, shuffled and split between train and test sets\n",
        "(X_train, y_train), (X_test, y_test) = mnist.load_data()\n",
        "\n",
        "X_train = X_train.reshape(X_train.shape[0], 1, img_rows, img_cols)\n",
        "X_test = X_test.reshape(X_test.shape[0], 1, img_rows, img_cols)\n",
        "X_train = X_train.astype('float32')\n",
        "X_test = X_test.astype('float32')\n",
        "X_train /= 255\n",
        "X_test /= 255\n",
        "\n",
        "print(np.min(X_train), np.max(X_train))\n",
        "print('X_train shape:', X_train.shape)\n",
        "print(X_train.shape[0], 'train samples')\n",
        "print(X_test.shape[0], 'test samples')"
      ],
      "execution_count": 0,
      "outputs": [
        {
          "output_type": "stream",
          "text": [
            "Downloading data from https://s3.amazonaws.com/img-datasets/mnist.npz\n",
            "11493376/11490434 [==============================] - 1s 0us/step\n",
            "0.0 1.0\n",
            "X_train shape: (60000, 1, 28, 28)\n",
            "60000 train samples\n",
            "10000 test samples\n"
          ],
          "name": "stdout"
        }
      ]
    },
    {
      "cell_type": "markdown",
      "metadata": {
        "id": "mCh0RkHqR67t",
        "colab_type": "text"
      },
      "source": [
        "## 超参数设置"
      ]
    },
    {
      "cell_type": "code",
      "metadata": {
        "id": "5rnvy4K4R67u",
        "colab_type": "code",
        "colab": {}
      },
      "source": [
        "shp = X_train.shape[1:]\n",
        "dropout_rate = 0.25\n",
        "\n",
        "# Optim优化器\n",
        "opt = Adam(lr=1e-4)\n",
        "dopt = Adam(lr=1e-5)"
      ],
      "execution_count": 0,
      "outputs": []
    },
    {
      "cell_type": "markdown",
      "metadata": {
        "id": "nzocjyWOR670",
        "colab_type": "text"
      },
      "source": [
        "## 定义生成器"
      ]
    },
    {
      "cell_type": "code",
      "metadata": {
        "id": "fxssGW0AR671",
        "colab_type": "code",
        "outputId": "0b64e85f-5114-4a79-e725-8bfd55ca3648",
        "colab": {
          "base_uri": "https://localhost:8080/",
          "height": 1000
        }
      },
      "source": [
        "from keras import backend as K\n",
        "K.tensorflow_backend.set_image_dim_ordering('th')  # 用theano的图片输入顺序\n",
        "# 生成1 * 28 * 28的图片\n",
        "nch = 200\n",
        "g_input = Input(shape=[100])\n",
        "H = Dense(nch*14*14, kernel_initializer='glorot_normal')(g_input)\n",
        "H = BatchNormalization()(H)\n",
        "H = Activation('relu')(H)\n",
        "H = Reshape( [nch, 14, 14] )(H)  # 转成200 * 14 * 14\n",
        "H = UpSampling2D(size=(2, 2))(H)\n",
        "H = Convolution2D(100, (3, 3), padding=\"same\", kernel_initializer='glorot_normal')(H)\n",
        "H = BatchNormalization()(H)\n",
        "H = Activation('relu')(H)\n",
        "H = Convolution2D(50, (3, 3), padding=\"same\", kernel_initializer='glorot_normal')(H)\n",
        "H = BatchNormalization()(H)\n",
        "H = Activation('relu')(H)\n",
        "H = Convolution2D(1, (1, 1), padding=\"same\", kernel_initializer='glorot_normal')(H)\n",
        "g_V = Activation('sigmoid')(H)\n",
        "generator = Model(g_input,g_V)\n",
        "generator.compile(loss='binary_crossentropy', optimizer=opt)\n",
        "generator.summary()"
      ],
      "execution_count": 0,
      "outputs": [
        {
          "output_type": "stream",
          "text": [
            "WARNING:tensorflow:From /usr/local/lib/python3.6/dist-packages/keras/backend/tensorflow_backend.py:66: The name tf.get_default_graph is deprecated. Please use tf.compat.v1.get_default_graph instead.\n",
            "\n",
            "WARNING:tensorflow:From /usr/local/lib/python3.6/dist-packages/keras/backend/tensorflow_backend.py:541: The name tf.placeholder is deprecated. Please use tf.compat.v1.placeholder instead.\n",
            "\n",
            "WARNING:tensorflow:From /usr/local/lib/python3.6/dist-packages/keras/backend/tensorflow_backend.py:4479: The name tf.truncated_normal is deprecated. Please use tf.random.truncated_normal instead.\n",
            "\n",
            "WARNING:tensorflow:From /usr/local/lib/python3.6/dist-packages/keras/backend/tensorflow_backend.py:148: The name tf.placeholder_with_default is deprecated. Please use tf.compat.v1.placeholder_with_default instead.\n",
            "\n",
            "WARNING:tensorflow:From /usr/local/lib/python3.6/dist-packages/keras/backend/tensorflow_backend.py:2239: The name tf.image.resize_nearest_neighbor is deprecated. Please use tf.compat.v1.image.resize_nearest_neighbor instead.\n",
            "\n",
            "WARNING:tensorflow:From /usr/local/lib/python3.6/dist-packages/keras/backend/tensorflow_backend.py:190: The name tf.get_default_session is deprecated. Please use tf.compat.v1.get_default_session instead.\n",
            "\n",
            "WARNING:tensorflow:From /usr/local/lib/python3.6/dist-packages/keras/backend/tensorflow_backend.py:197: The name tf.ConfigProto is deprecated. Please use tf.compat.v1.ConfigProto instead.\n",
            "\n",
            "WARNING:tensorflow:From /usr/local/lib/python3.6/dist-packages/keras/backend/tensorflow_backend.py:203: The name tf.Session is deprecated. Please use tf.compat.v1.Session instead.\n",
            "\n",
            "WARNING:tensorflow:From /usr/local/lib/python3.6/dist-packages/keras/backend/tensorflow_backend.py:207: The name tf.global_variables is deprecated. Please use tf.compat.v1.global_variables instead.\n",
            "\n",
            "WARNING:tensorflow:From /usr/local/lib/python3.6/dist-packages/keras/backend/tensorflow_backend.py:216: The name tf.is_variable_initialized is deprecated. Please use tf.compat.v1.is_variable_initialized instead.\n",
            "\n",
            "WARNING:tensorflow:From /usr/local/lib/python3.6/dist-packages/keras/backend/tensorflow_backend.py:223: The name tf.variables_initializer is deprecated. Please use tf.compat.v1.variables_initializer instead.\n",
            "\n",
            "WARNING:tensorflow:From /usr/local/lib/python3.6/dist-packages/keras/backend/tensorflow_backend.py:2041: The name tf.nn.fused_batch_norm is deprecated. Please use tf.compat.v1.nn.fused_batch_norm instead.\n",
            "\n",
            "WARNING:tensorflow:From /usr/local/lib/python3.6/dist-packages/keras/optimizers.py:793: The name tf.train.Optimizer is deprecated. Please use tf.compat.v1.train.Optimizer instead.\n",
            "\n",
            "WARNING:tensorflow:From /usr/local/lib/python3.6/dist-packages/keras/backend/tensorflow_backend.py:3657: The name tf.log is deprecated. Please use tf.math.log instead.\n",
            "\n",
            "WARNING:tensorflow:From /usr/local/lib/python3.6/dist-packages/tensorflow_core/python/ops/nn_impl.py:183: where (from tensorflow.python.ops.array_ops) is deprecated and will be removed in a future version.\n",
            "Instructions for updating:\n",
            "Use tf.where in 2.0, which has the same broadcast rule as np.where\n",
            "Model: \"model_1\"\n",
            "_________________________________________________________________\n",
            "Layer (type)                 Output Shape              Param #   \n",
            "=================================================================\n",
            "input_1 (InputLayer)         (None, 100)               0         \n",
            "_________________________________________________________________\n",
            "dense_1 (Dense)              (None, 39200)             3959200   \n",
            "_________________________________________________________________\n",
            "batch_normalization_1 (Batch (None, 39200)             156800    \n",
            "_________________________________________________________________\n",
            "activation_1 (Activation)    (None, 39200)             0         \n",
            "_________________________________________________________________\n",
            "reshape_1 (Reshape)          (None, 200, 14, 14)       0         \n",
            "_________________________________________________________________\n",
            "up_sampling2d_1 (UpSampling2 (None, 200, 28, 28)       0         \n",
            "_________________________________________________________________\n",
            "conv2d_1 (Conv2D)            (None, 100, 28, 28)       180100    \n",
            "_________________________________________________________________\n",
            "batch_normalization_2 (Batch (None, 100, 28, 28)       112       \n",
            "_________________________________________________________________\n",
            "activation_2 (Activation)    (None, 100, 28, 28)       0         \n",
            "_________________________________________________________________\n",
            "conv2d_2 (Conv2D)            (None, 50, 28, 28)        45050     \n",
            "_________________________________________________________________\n",
            "batch_normalization_3 (Batch (None, 50, 28, 28)        112       \n",
            "_________________________________________________________________\n",
            "activation_3 (Activation)    (None, 50, 28, 28)        0         \n",
            "_________________________________________________________________\n",
            "conv2d_3 (Conv2D)            (None, 1, 28, 28)         51        \n",
            "_________________________________________________________________\n",
            "activation_4 (Activation)    (None, 1, 28, 28)         0         \n",
            "=================================================================\n",
            "Total params: 4,341,425\n",
            "Trainable params: 4,262,913\n",
            "Non-trainable params: 78,512\n",
            "_________________________________________________________________\n"
          ],
          "name": "stdout"
        }
      ]
    },
    {
      "cell_type": "markdown",
      "metadata": {
        "id": "YKzSOh1DR676",
        "colab_type": "text"
      },
      "source": [
        "## 定义辨别器"
      ]
    },
    {
      "cell_type": "code",
      "metadata": {
        "id": "2NNChNOPR677",
        "colab_type": "code",
        "outputId": "1e8b9e84-0138-4fa7-e393-ff75f756fdfe",
        "colab": {
          "base_uri": "https://localhost:8080/",
          "height": 658
        }
      },
      "source": [
        "# 辨别是否来自真实训练集\n",
        "d_input = Input(shape=shp)\n",
        "H = Convolution2D(256, (5, 5), activation=\"relu\", strides=(2, 2), padding=\"same\")(d_input)\n",
        "H = LeakyReLU(0.2)(H)\n",
        "H = Dropout(dropout_rate)(H)\n",
        "H = Convolution2D(512, (5, 5), activation=\"relu\", strides=(2, 2), padding=\"same\")(H)\n",
        "H = LeakyReLU(0.2)(H)\n",
        "H = Dropout(dropout_rate)(H)\n",
        "H = Flatten()(H)\n",
        "H = Dense(256)(H)\n",
        "H = LeakyReLU(0.2)(H)\n",
        "H = Dropout(dropout_rate)(H)\n",
        "d_V = Dense(2,activation='softmax')(H)\n",
        "discriminator = Model(d_input,d_V)\n",
        "discriminator.compile(loss='categorical_crossentropy', optimizer=dopt)\n",
        "discriminator.summary()"
      ],
      "execution_count": 0,
      "outputs": [
        {
          "output_type": "stream",
          "text": [
            "WARNING:tensorflow:From /usr/local/lib/python3.6/dist-packages/keras/backend/tensorflow_backend.py:4432: The name tf.random_uniform is deprecated. Please use tf.random.uniform instead.\n",
            "\n",
            "WARNING:tensorflow:From /usr/local/lib/python3.6/dist-packages/keras/backend/tensorflow_backend.py:3733: calling dropout (from tensorflow.python.ops.nn_ops) with keep_prob is deprecated and will be removed in a future version.\n",
            "Instructions for updating:\n",
            "Please use `rate` instead of `keep_prob`. Rate should be set to `rate = 1 - keep_prob`.\n",
            "Model: \"model_2\"\n",
            "_________________________________________________________________\n",
            "Layer (type)                 Output Shape              Param #   \n",
            "=================================================================\n",
            "input_2 (InputLayer)         (None, 1, 28, 28)         0         \n",
            "_________________________________________________________________\n",
            "conv2d_4 (Conv2D)            (None, 256, 14, 14)       6656      \n",
            "_________________________________________________________________\n",
            "leaky_re_lu_1 (LeakyReLU)    (None, 256, 14, 14)       0         \n",
            "_________________________________________________________________\n",
            "dropout_1 (Dropout)          (None, 256, 14, 14)       0         \n",
            "_________________________________________________________________\n",
            "conv2d_5 (Conv2D)            (None, 512, 7, 7)         3277312   \n",
            "_________________________________________________________________\n",
            "leaky_re_lu_2 (LeakyReLU)    (None, 512, 7, 7)         0         \n",
            "_________________________________________________________________\n",
            "dropout_2 (Dropout)          (None, 512, 7, 7)         0         \n",
            "_________________________________________________________________\n",
            "flatten_1 (Flatten)          (None, 25088)             0         \n",
            "_________________________________________________________________\n",
            "dense_2 (Dense)              (None, 256)               6422784   \n",
            "_________________________________________________________________\n",
            "leaky_re_lu_3 (LeakyReLU)    (None, 256)               0         \n",
            "_________________________________________________________________\n",
            "dropout_3 (Dropout)          (None, 256)               0         \n",
            "_________________________________________________________________\n",
            "dense_3 (Dense)              (None, 2)                 514       \n",
            "=================================================================\n",
            "Total params: 9,707,266\n",
            "Trainable params: 9,707,266\n",
            "Non-trainable params: 0\n",
            "_________________________________________________________________\n"
          ],
          "name": "stdout"
        }
      ]
    },
    {
      "cell_type": "markdown",
      "metadata": {
        "id": "_QKQEbxFR67-",
        "colab_type": "text"
      },
      "source": [
        "## 构造生成对抗网络"
      ]
    },
    {
      "cell_type": "code",
      "metadata": {
        "id": "OB1W7vQnR67-",
        "colab_type": "code",
        "outputId": "370ad753-0f86-4f2e-ba4c-8e165c545f75",
        "colab": {
          "base_uri": "https://localhost:8080/",
          "height": 252
        }
      },
      "source": [
        "# 冷冻训练层\n",
        "def make_trainable(net, val):\n",
        "    net.trainable = val\n",
        "    for l in net.layers:\n",
        "        l.trainable = val\n",
        "make_trainable(discriminator, False)\n",
        "\n",
        "# 构造GAN\n",
        "gan_input = Input(shape=[100])\n",
        "H = generator(gan_input)\n",
        "gan_V = discriminator(H)\n",
        "GAN = Model(gan_input, gan_V)\n",
        "GAN.compile(loss='categorical_crossentropy', optimizer=opt)\n",
        "GAN.summary()"
      ],
      "execution_count": 0,
      "outputs": [
        {
          "output_type": "stream",
          "text": [
            "Model: \"model_3\"\n",
            "_________________________________________________________________\n",
            "Layer (type)                 Output Shape              Param #   \n",
            "=================================================================\n",
            "input_3 (InputLayer)         (None, 100)               0         \n",
            "_________________________________________________________________\n",
            "model_1 (Model)              (None, 1, 28, 28)         4341425   \n",
            "_________________________________________________________________\n",
            "model_2 (Model)              (None, 2)                 9707266   \n",
            "=================================================================\n",
            "Total params: 14,048,691\n",
            "Trainable params: 4,262,913\n",
            "Non-trainable params: 9,785,778\n",
            "_________________________________________________________________\n"
          ],
          "name": "stdout"
        }
      ]
    },
    {
      "cell_type": "markdown",
      "metadata": {
        "id": "YucI-zBNR68B",
        "colab_type": "text"
      },
      "source": [
        "##  训练"
      ]
    },
    {
      "cell_type": "code",
      "metadata": {
        "id": "mqI-PEkeR68C",
        "colab_type": "code",
        "colab": {}
      },
      "source": [
        "# 描绘损失收敛过程\n",
        "def plot_loss(losses):\n",
        "        display.clear_output(wait=True)\n",
        "        display.display(plt.gcf())\n",
        "        plt.figure(figsize=(10,8))\n",
        "        plt.plot(losses[\"d\"], label='discriminitive loss')\n",
        "        plt.plot(losses[\"g\"], label='generative loss')\n",
        "        plt.legend()\n",
        "        plt.show()\n",
        "        \n",
        "        \n",
        "#  描绘生成器生成图像        \n",
        "def plot_gen(n_ex=16,dim=(4,4), figsize=(10,10) ):\n",
        "    noise = np.random.uniform(0,1,size=[n_ex,100])\n",
        "    generated_images = generator.predict(noise)\n",
        "\n",
        "    plt.figure(figsize=figsize)\n",
        "    for i in range(generated_images.shape[0]):\n",
        "        plt.subplot(dim[0],dim[1],i+1)\n",
        "        img = generated_images[i,0,:,:]\n",
        "        plt.imshow(img)\n",
        "        plt.axis('off')\n",
        "    plt.tight_layout()\n",
        "    plt.show()"
      ],
      "execution_count": 0,
      "outputs": []
    },
    {
      "cell_type": "code",
      "metadata": {
        "id": "fnYVha2jR68F",
        "colab_type": "code",
        "outputId": "d3ef9ca8-85a2-4263-c1df-83d43afbf0ef",
        "colab": {
          "base_uri": "https://localhost:8080/",
          "height": 118
        }
      },
      "source": [
        "# 抽取训练集样本\n",
        "ntrain = 10000\n",
        "trainidx = random.sample(range(0,X_train.shape[0]), ntrain)\n",
        "XT = X_train[trainidx,:,:,:]  \n",
        "\n",
        "# 预训练辨别器\n",
        "noise_gen = np.random.uniform(0,1,size=[XT.shape[0],100])\n",
        "generated_images = generator.predict(noise_gen)  # 生成器产生样本\n",
        "X = np.concatenate((XT, generated_images))  \n",
        "n = XT.shape[0]\n",
        "y = np.zeros([2*n,2])  # 构造辨别器标签 one-hot encode\n",
        "y[:n,1] = 1\n",
        "y[n:,0] = 1\n",
        "\n",
        "make_trainable(discriminator,True)\n",
        "discriminator.fit(X,y, epochs=1, batch_size=32)\n",
        "y_hat = discriminator.predict(X)"
      ],
      "execution_count": 0,
      "outputs": [
        {
          "output_type": "stream",
          "text": [
            "WARNING:tensorflow:From /usr/local/lib/python3.6/dist-packages/keras/backend/tensorflow_backend.py:1033: The name tf.assign_add is deprecated. Please use tf.compat.v1.assign_add instead.\n",
            "\n",
            "WARNING:tensorflow:From /usr/local/lib/python3.6/dist-packages/keras/backend/tensorflow_backend.py:1020: The name tf.assign is deprecated. Please use tf.compat.v1.assign instead.\n",
            "\n",
            "Epoch 1/1\n",
            "20000/20000 [==============================] - 28s 1ms/step - loss: 0.0468\n"
          ],
          "name": "stdout"
        }
      ]
    },
    {
      "cell_type": "code",
      "metadata": {
        "id": "AaV6R1J-R68J",
        "colab_type": "code",
        "outputId": "2398bb95-ef29-44eb-ef99-6c4ab900eed1",
        "colab": {
          "base_uri": "https://localhost:8080/",
          "height": 34
        }
      },
      "source": [
        "#  计算辨别器的准确率\n",
        "y_hat_idx = np.argmax(y_hat,axis=1)\n",
        "y_idx = np.argmax(y,axis=1)\n",
        "diff = y_idx-y_hat_idx\n",
        "n_total = y.shape[0]\n",
        "n_right = (diff==0).sum()\n",
        "\n",
        "print( \"(%d of %d) right\"  % (n_right, n_total))"
      ],
      "execution_count": 0,
      "outputs": [
        {
          "output_type": "stream",
          "text": [
            "(20000 of 20000) right\n"
          ],
          "name": "stdout"
        }
      ]
    },
    {
      "cell_type": "code",
      "metadata": {
        "id": "n3jmrgKCR68M",
        "colab_type": "code",
        "colab": {}
      },
      "source": [
        "# 存储生成器和辨别器的训练损失\n",
        "losses = {\"d\":[], \"g\":[]}"
      ],
      "execution_count": 0,
      "outputs": []
    },
    {
      "cell_type": "code",
      "metadata": {
        "id": "PIXx6aDcR68P",
        "colab_type": "code",
        "colab": {}
      },
      "source": [
        "def train_for_n(nb_epoch=5000, plt_frq=25,BATCH_SIZE=32):\n",
        "    for e in tqdm(range(nb_epoch)):  \n",
        "        \n",
        "        # 生成器生成样本\n",
        "        image_batch = X_train[np.random.randint(0,X_train.shape[0],size=BATCH_SIZE),:,:,:]    \n",
        "        noise_gen = np.random.uniform(0,1,size=[BATCH_SIZE,100])\n",
        "        generated_images = generator.predict(noise_gen)\n",
        "        \n",
        "        # 训练辨别器\n",
        "        X = np.concatenate((image_batch, generated_images))\n",
        "        y = np.zeros([2*BATCH_SIZE,2])\n",
        "        y[0:BATCH_SIZE,1] = 1\n",
        "        y[BATCH_SIZE:,0] = 1\n",
        "        \n",
        "        # 存储辨别器损失loss\n",
        "        make_trainable(discriminator,True)\n",
        "        d_loss  = discriminator.train_on_batch(X,y)\n",
        "        losses[\"d\"].append(d_loss)  \n",
        "    \n",
        "        # 生成器生成样本\n",
        "        noise_tr = np.random.uniform(0,1,size=[BATCH_SIZE,100])\n",
        "        y2 = np.zeros([BATCH_SIZE,2])\n",
        "        y2[:,1] = 1\n",
        "        \n",
        "        # 存储生成器损失loss\n",
        "        make_trainable(discriminator,False)  # 辨别器的训练关掉\n",
        "        g_loss = GAN.train_on_batch(noise_tr, y2)\n",
        "        losses[\"g\"].append(g_loss)\n",
        "        \n",
        "        # 更新损失loss图\n",
        "        if e%plt_frq == plt_frq-1:\n",
        "            plot_loss(losses)\n",
        "            plot_gen()"
      ],
      "execution_count": 0,
      "outputs": []
    },
    {
      "cell_type": "code",
      "metadata": {
        "scrolled": false,
        "id": "_cVqIFVER68T",
        "colab_type": "code",
        "outputId": "eb0ac8ad-c3ea-45d4-b16e-bfb6f7efa3ea",
        "colab": {
          "base_uri": "https://localhost:8080/",
          "height": 1000
        }
      },
      "source": [
        "train_for_n(nb_epoch=1000, plt_frq=10,BATCH_SIZE=128)"
      ],
      "execution_count": 0,
      "outputs": [
        {
          "output_type": "display_data",
          "data": {
            "text/plain": [
              "<Figure size 432x288 with 0 Axes>"
            ]
          },
          "metadata": {
            "tags": []
          }
        },
        {
          "output_type": "display_data",
          "data": {
            "text/plain": [
              "<Figure size 432x288 with 0 Axes>"
            ]
          },
          "metadata": {
            "tags": []
          }
        },
        {
          "output_type": "display_data",
          "data": {
            "image/png": "[encoded data removed]",
            "text/plain": [
              "<Figure size 720x576 with 1 Axes>"
            ]
          },
          "metadata": {
            "tags": []
          }
        },
        {
          "output_type": "display_data",
          "data": {
            "image/png": "[encoded data removed]",
            "text/plain": [
              "<Figure size 720x720 with 16 Axes>"
            ]
          },
          "metadata": {
            "tags": []
          }
        },
        {
          "output_type": "stream",
          "text": [
            "\r100%|██████████| 1000/1000 [09:58<00:00,  1.00it/s]\n"
          ],
          "name": "stderr"
        }
      ]
    },
    {
      "cell_type": "markdown",
      "metadata": {
        "id": "LfQg9Xb0R68a",
        "colab_type": "text"
      },
      "source": [
        "## 调参技巧    \n",
        "1.batch size  \n",
        "2.adam优化器的learning rate  \n",
        "3.迭代次数nb_epoch  \n",
        "4.生成器generat和辨别器discriminator的网络结构  "
      ]
    }
  ]
}